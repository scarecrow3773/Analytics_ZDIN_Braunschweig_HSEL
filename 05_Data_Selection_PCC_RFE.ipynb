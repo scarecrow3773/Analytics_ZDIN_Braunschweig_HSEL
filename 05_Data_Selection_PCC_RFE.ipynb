{
 "cells": [
  {
   "cell_type": "markdown",
   "metadata": {},
   "source": [
    "# Data-Selection Algorithmen\n",
    "\n",
    "**Libraries**<br>\n",
    "pandas:     Datenverarbeitung<br>\n",
    "os:         Betriebsystem-Funktionen für relative Pfadreferenzierung<br>\n",
    "tbd ...<br>\n",
    "tbd ..."
   ]
  },
  {
   "cell_type": "code",
   "execution_count": 4,
   "metadata": {},
   "outputs": [],
   "source": [
    "import pandas as pd\n",
    "import numpy as np\n",
    "import matplotlib.pyplot as plt\n",
    "from sklearn.model_selection import train_test_split\n",
    "from sklearn.linear_model import LinearRegression\n",
    "from sklearn.metrics import r2_score, mean_squared_error, mean_absolute_error\n",
    "from sklearn.feature_selection import SelectKBest, f_classif, f_regression, mutual_info_regression, r_regression\n",
    "from sklearn.feature_selection import RFE\n",
    "from sklearn.ensemble import RandomForestRegressor"
   ]
  },
  {
   "cell_type": "markdown",
   "metadata": {},
   "source": [
    "**Importieren und Untersuchung der Trainingsdaten**"
   ]
  },
  {
   "cell_type": "code",
   "execution_count": 3,
   "metadata": {},
   "outputs": [
    {
     "name": "stdout",
     "output_type": "stream",
     "text": [
      "Number of missing values in each column:\n",
      "MESS_DATUM     0\n",
      "RWS_DAU_10     0\n",
      "RWS_10         0\n",
      "DS_10          0\n",
      "GS_10          0\n",
      "SD_10          0\n",
      "FF_10          0\n",
      "DD_10          0\n",
      "PP_10          0\n",
      "TT_10          0\n",
      "TM5_10         0\n",
      "RF_10          0\n",
      "load           0\n",
      "Weekday        0\n",
      "Weekend        0\n",
      "Month          0\n",
      "Hour_of_Day    0\n",
      "dtype: int64\n"
     ]
    }
   ],
   "source": [
    "data_df = pd.read_csv('2019_Trainingsdaten_1h.csv')\n",
    "\n",
    "# Checking for missing values using isna() or isnull()\n",
    "missing_values = data_df.isna().sum() + data_df.isnull().sum()\n",
    "\n",
    "print(\"Number of missing values in each column:\")\n",
    "print(missing_values)"
   ]
  },
  {
   "cell_type": "markdown",
   "metadata": {},
   "source": [
    "**Trennen der unabhängigen und abhängigen Variablen für die Evaluierung**"
   ]
  },
  {
   "cell_type": "code",
   "execution_count": 5,
   "metadata": {},
   "outputs": [],
   "source": [
    "x = data_df.drop(['load', 'MESS_DATUM'], axis=1)  # Keep x as a DataFrame\n",
    "y = data_df['load'].values\n",
    "\n",
    "feature_names = x.columns.tolist()"
   ]
  },
  {
   "cell_type": "markdown",
   "metadata": {},
   "source": [
    "**Select-K-Best**"
   ]
  },
  {
   "cell_type": "code",
   "execution_count": 6,
   "metadata": {},
   "outputs": [
    {
     "name": "stdout",
     "output_type": "stream",
     "text": [
      "Feature scores:\n",
      "        Feature     Score\n",
      "14  Hour_of_Day  0.413215\n",
      "9        TM5_10  0.043928\n",
      "0    RWS_DAU_10  0.043607\n",
      "4         SD_10  0.042691\n",
      "12      Weekend  0.040385\n",
      "5         FF_10  0.039451\n",
      "8         TT_10  0.038819\n",
      "11      Weekday  0.034881\n",
      "6         DD_10  0.016704\n",
      "3         GS_10 -0.001890\n",
      "2         DS_10 -0.006605\n",
      "1        RWS_10 -0.009223\n",
      "7         PP_10 -0.033966\n",
      "13        Month -0.034154\n",
      "10        RF_10 -0.129935\n",
      "Selected features:\n",
      "['RWS_DAU_10', 'SD_10', 'TM5_10', 'Hour_of_Day']\n"
     ]
    }
   ],
   "source": [
    "# Convert x to a NumPy array for fitting SelectKBest\n",
    "x_array = x.values\n",
    "\n",
    "# Instantiate SelectKBest to select top k features\n",
    "num_features_to_select = 4\n",
    "feature_selector = SelectKBest(score_func=r_regression, k=num_features_to_select)\n",
    "\n",
    "# Fit feature selector to data\n",
    "feature_selector.fit(x_array, y)\n",
    "\n",
    "# Get the indices of the selected features\n",
    "selected_features_indices = feature_selector.get_support(indices=True)\n",
    "\n",
    "# Get the names of the selected features from the original feature names\n",
    "selected_features = [feature_names[i] for i in selected_features_indices]\n",
    "\n",
    "# Get the scores for each feature\n",
    "feature_scores = feature_selector.scores_\n",
    "feature_scores_df = pd.DataFrame({'Feature': feature_names, 'Score': feature_scores})\n",
    "feature_scores_df = feature_scores_df.sort_values(by='Score', ascending=False)\n",
    "\n",
    "print(\"Feature scores:\")\n",
    "print(feature_scores_df)\n",
    "\n",
    "print(\"Selected features:\")\n",
    "print(selected_features)"
   ]
  },
  {
   "cell_type": "markdown",
   "metadata": {},
   "source": [
    "**Recursive Feature Elimination (RFE)**<br>\n",
    "Bei der [RFE (scikit-learn)](https://scikit-learn.org/stable/modules/generated/sklearn.feature_selection.RFE.html) wird das Model zuerst mit der ganzen Menge an vorhandenen Features trainiert, dann wird das Feature mit der geringsten Relevanz entfernt und die RFE-Methode wiederholt."
   ]
  },
  {
   "cell_type": "code",
   "execution_count": 7,
   "metadata": {},
   "outputs": [
    {
     "name": "stdout",
     "output_type": "stream",
     "text": [
      "Feature ranking:\n",
      "        Feature  Ranking\n",
      "5         FF_10        1\n",
      "6         DD_10        1\n",
      "7         PP_10        1\n",
      "8         TT_10        1\n",
      "9        TM5_10        1\n",
      "10        RF_10        1\n",
      "11      Weekday        1\n",
      "14  Hour_of_Day        1\n",
      "2         DS_10        2\n",
      "13        Month        3\n",
      "3         GS_10        4\n",
      "12      Weekend        5\n",
      "0    RWS_DAU_10        6\n",
      "4         SD_10        7\n",
      "1        RWS_10        8\n",
      "Selected features:\n",
      "['FF_10', 'DD_10', 'PP_10', 'TT_10', 'TM5_10', 'RF_10', 'Weekday', 'Hour_of_Day']\n"
     ]
    }
   ],
   "source": [
    "model = RandomForestRegressor()\n",
    "\n",
    "# Instantiate RFE to select top k features\n",
    "num_features_to_select = 8\n",
    "rfe_selector = RFE(model, n_features_to_select=num_features_to_select)\n",
    "\n",
    "# Fit feature selector to data\n",
    "rfe_selector = rfe_selector.fit(x, y)\n",
    "\n",
    "# Get the mask of selected features\n",
    "selected_features_mask = rfe_selector.support_\n",
    "\n",
    "# Get the names of the selected features from the original feature names\n",
    "selected_features = [feature_names[i] for i, selected in enumerate(selected_features_mask) if selected]\n",
    "\n",
    "# Get the ranking of features (optional)\n",
    "feature_ranking = rfe_selector.ranking_\n",
    "feature_ranking_df = pd.DataFrame({'Feature': feature_names, 'Ranking': feature_ranking})\n",
    "feature_ranking_df = feature_ranking_df.sort_values(by='Ranking')\n",
    "\n",
    "print(\"Feature ranking:\")\n",
    "print(feature_ranking_df)\n",
    "\n",
    "print(\"Selected features:\")\n",
    "print(selected_features)"
   ]
  }
 ],
 "metadata": {
  "kernelspec": {
   "display_name": "Python 3",
   "language": "python",
   "name": "python3"
  },
  "language_info": {
   "codemirror_mode": {
    "name": "ipython",
    "version": 3
   },
   "file_extension": ".py",
   "mimetype": "text/x-python",
   "name": "python",
   "nbconvert_exporter": "python",
   "pygments_lexer": "ipython3",
   "version": "3.11.2"
  }
 },
 "nbformat": 4,
 "nbformat_minor": 2
}
