{
 "cells": [
  {
   "cell_type": "markdown",
   "id": "73ae966f",
   "metadata": {},
   "source": [
    "# Initialisierung\n",
    "\n",
    "**Libraries**<br>\n",
    "pandas:     Datenverarbeitung<br>\n",
    "os:         Betriebsystem-Funktionen für relative Pfadreferenzierung<br>\n",
    "datetime:   Verarbeitung der Timstamps<br>"
   ]
  },
  {
   "cell_type": "code",
   "execution_count": 1,
   "id": "80aea91e",
   "metadata": {},
   "outputs": [],
   "source": [
    "import pandas as pd\n",
    "import os\n",
    "from datetime import datetime\n",
    "\n",
    "dirname = os.path.abspath('')\n",
    "\n",
    "path_niederschlag_10min = os.path.join(dirname, 'Rohdaten_Wetter_Braunschweig\\produkt_zehn_min_nieder_20100101_20191231_02014.csv')\n",
    "path_solar_10min = os.path.join(dirname, 'Rohdaten_Wetter_Braunschweig\\produkt_zehn_min_solar_20100101_20191231_02014.csv')\n",
    "path_wind_10min = os.path.join(dirname, 'Rohdaten_Wetter_Braunschweig\\produkt_zehn_min_wind_20100101_20191231_02014.csv')\n",
    "path_air_10min = os.path.join(dirname, 'Rohdaten_Wetter_Braunschweig\\produkt_zehn_min_air_20100101_20191231_02014.csv')"
   ]
  },
  {
   "cell_type": "markdown",
   "id": "c4d7430f",
   "metadata": {
    "cell_marker": "################################################################"
   },
   "source": [
    "#   Niederschlag\n",
    "\n",
    "**Einlesen der .csv-Datei**<br>\n",
    "Die Dateneinträge des DWD werden durch Semicolons getrennt und nicht wie bei .csv üblich durch Kommata.<br>\n",
    "*Lösung*: read_csv(file_name, delimiter=';'), delimiter-Variable bekommt das Trennzeichen übergeben."
   ]
  },
  {
   "cell_type": "code",
   "execution_count": 2,
   "id": "1b79d7c8",
   "metadata": {},
   "outputs": [],
   "source": [
    "data_niederschlag_10min = pd.read_csv(path_niederschlag_10min, delimiter=';')"
   ]
  },
  {
   "cell_type": "markdown",
   "id": "c0bd86a8",
   "metadata": {},
   "source": [
    "**Entfernen der nicht benötigten Teile der Messreihe und Messwerte**<br>\n",
    "Der DWD stellt zu jeden Datensatz eine Dokumentation zur Verfügung. Diese enthält eine Aufschlüsselung der Messbezeichungen.<br>\n",
    "LISTE EINFÜGEN<br>\n",
    "<br>\n",
    "Messwerte des Jahres 2019"
   ]
  },
  {
   "cell_type": "code",
   "execution_count": 3,
   "id": "4d35be49",
   "metadata": {},
   "outputs": [],
   "source": [
    "columns_to_delete = ['STATIONS_ID', '  QN', 'eor', 'RWS_IND_10']\n",
    "data_niederschlag_10min = data_niederschlag_10min.drop(columns=columns_to_delete, axis=1) #axis=0 for deleting rows, axis=1 for deleting columns\n",
    "\n",
    "Start_Date = 201901010000\n",
    "End_Date = 201912312350\n",
    "\n",
    "year = data_niederschlag_10min[(data_niederschlag_10min['MESS_DATUM'] >= Start_Date) & (data_niederschlag_10min['MESS_DATUM'] <= End_Date)]"
   ]
  },
  {
   "cell_type": "markdown",
   "id": "d8b56bec",
   "metadata": {},
   "source": [
    "**Konvertierung der Timestamps in ISO 8601 Format**<br>\n",
    "Jahr-Monat-Tag+Stunden:Minuten:Sekunden"
   ]
  },
  {
   "cell_type": "code",
   "execution_count": 4,
   "id": "a0c4efa9",
   "metadata": {},
   "outputs": [
    {
     "name": "stderr",
     "output_type": "stream",
     "text": [
      "C:\\Users\\admin\\AppData\\Local\\Temp\\ipykernel_15532\\3684808446.py:9: FutureWarning: Setting an item of incompatible dtype is deprecated and will raise in a future error of pandas. Value '<DatetimeArray>\n",
      "['2019-01-01 00:00:00', '2019-01-01 00:10:00', '2019-01-01 00:20:00',\n",
      " '2019-01-01 00:30:00', '2019-01-01 00:40:00', '2019-01-01 00:50:00',\n",
      " '2019-01-01 01:00:00', '2019-01-01 01:10:00', '2019-01-01 01:20:00',\n",
      " '2019-01-01 01:30:00',\n",
      " ...\n",
      " '2019-12-31 22:20:00', '2019-12-31 22:30:00', '2019-12-31 22:40:00',\n",
      " '2019-12-31 22:50:00', '2019-12-31 23:00:00', '2019-12-31 23:10:00',\n",
      " '2019-12-31 23:20:00', '2019-12-31 23:30:00', '2019-12-31 23:40:00',\n",
      " '2019-12-31 23:50:00']\n",
      "Length: 52560, dtype: datetime64[ns]' has dtype incompatible with int64, please explicitly cast to a compatible dtype first.\n",
      "  year.loc[:, 'MESS_DATUM'] = year['MESS_DATUM'].apply(convert_to_utc)\n"
     ]
    }
   ],
   "source": [
    "def convert_to_utc(int_date):\n",
    "    date_time = datetime.strptime(str(int_date), \"%Y%m%d%H%M\")\n",
    "    return date_time\n",
    "\n",
    "#year['MESS_DATUM'] = year['MESS_DATUM'].apply(convert_to_utc) #Warning: modifies a DataFrame that is a subset of another DataFrame (SettingWithCopyWarning)\n",
    "\n",
    "# Solution:\n",
    "# Using .loc accessor of pandas to explicitly set values in the original DataFrame:\n",
    "year.loc[:, 'MESS_DATUM'] = year['MESS_DATUM'].apply(convert_to_utc)"
   ]
  },
  {
   "cell_type": "markdown",
   "id": "9ad25a5d",
   "metadata": {},
   "source": [
    "**Speichern der verarbeiteten dataFrames als .csv (ohne Zeilen-Nummerierung, index=False)**"
   ]
  },
  {
   "cell_type": "code",
   "execution_count": 5,
   "id": "e2d7711d",
   "metadata": {},
   "outputs": [],
   "source": [
    "year.to_csv('2019_Braunschweig_Niederschlag_15min_UTC.csv', index=False)"
   ]
  },
  {
   "cell_type": "markdown",
   "id": "be000720",
   "metadata": {
    "cell_marker": "################################################################"
   },
   "source": [
    "#   Solar \n",
    "\n",
    "**Einlesen der .csv-Datei**<br>\n",
    "Die Dateneinträge des DWD werden durch Semicolons getrennt und nicht wie bei .csv üblich durch Kommata.<br>\n",
    "*Lösung*: read_csv(file_name, delimiter=';'), delimiter-Variable bekommt das Trennzeichen übergeben."
   ]
  },
  {
   "cell_type": "code",
   "execution_count": 6,
   "id": "c12b6947",
   "metadata": {},
   "outputs": [],
   "source": [
    "data_solar_10min = pd.read_csv(path_solar_10min, delimiter=';')"
   ]
  },
  {
   "cell_type": "markdown",
   "id": "04acd507",
   "metadata": {},
   "source": [
    "**Entfernen der nicht benötigten Teile der Messreihe und Messwerte**<br>\n",
    "Der DWD stellt zu jeden Datensatz eine Dokumentation zur Verfügung. Diese enthält eine Aufschlüsselung der Messbezeichungen.<br>\n",
    "LISTE EINFÜGEN<br>\n",
    "<br>\n",
    "Messwerte des Jahres 2019"
   ]
  },
  {
   "cell_type": "code",
   "execution_count": 7,
   "id": "4c7248a9",
   "metadata": {},
   "outputs": [],
   "source": [
    "columns_to_delete = ['STATIONS_ID', '  QN', 'eor', 'LS_10']\n",
    "data_solar_10min = data_solar_10min.drop(columns=columns_to_delete, axis=1) #axis=0 for deleting rows, axis=1 for deleting columns\n",
    "\n",
    "Start_Date = 201901010000\n",
    "End_Date = 201912312350\n",
    "\n",
    "year = data_solar_10min[(data_solar_10min['MESS_DATUM'] >= Start_Date) & (data_solar_10min['MESS_DATUM'] <= End_Date)]"
   ]
  },
  {
   "cell_type": "markdown",
   "id": "64aa82c6",
   "metadata": {},
   "source": [
    "**Konvertierung der Timestamps in ISO 8601 Format**<br>\n",
    "Jahr-Monat-Tag+Stunden:Minuten:Sekunden"
   ]
  },
  {
   "cell_type": "code",
   "execution_count": 8,
   "id": "82bb162e",
   "metadata": {},
   "outputs": [
    {
     "name": "stderr",
     "output_type": "stream",
     "text": [
      "C:\\Users\\admin\\AppData\\Local\\Temp\\ipykernel_15532\\3684808446.py:9: FutureWarning: Setting an item of incompatible dtype is deprecated and will raise in a future error of pandas. Value '<DatetimeArray>\n",
      "['2019-01-01 00:00:00', '2019-01-01 00:10:00', '2019-01-01 00:20:00',\n",
      " '2019-01-01 00:30:00', '2019-01-01 00:40:00', '2019-01-01 00:50:00',\n",
      " '2019-01-01 01:00:00', '2019-01-01 01:10:00', '2019-01-01 01:20:00',\n",
      " '2019-01-01 01:30:00',\n",
      " ...\n",
      " '2019-12-31 22:20:00', '2019-12-31 22:30:00', '2019-12-31 22:40:00',\n",
      " '2019-12-31 22:50:00', '2019-12-31 23:00:00', '2019-12-31 23:10:00',\n",
      " '2019-12-31 23:20:00', '2019-12-31 23:30:00', '2019-12-31 23:40:00',\n",
      " '2019-12-31 23:50:00']\n",
      "Length: 52560, dtype: datetime64[ns]' has dtype incompatible with int64, please explicitly cast to a compatible dtype first.\n",
      "  year.loc[:, 'MESS_DATUM'] = year['MESS_DATUM'].apply(convert_to_utc)\n"
     ]
    }
   ],
   "source": [
    "def convert_to_utc(int_date):\n",
    "    date_time = datetime.strptime(str(int_date), \"%Y%m%d%H%M\")\n",
    "    return date_time\n",
    "\n",
    "#year['MESS_DATUM'] = year['MESS_DATUM'].apply(convert_to_utc) #Warning: modifies a DataFrame that is a subset of another DataFrame (SettingWithCopyWarning)\n",
    "\n",
    "# Solution:\n",
    "# Using .loc accessor of pandas to explicitly set values in the original DataFrame:\n",
    "year.loc[:, 'MESS_DATUM'] = year['MESS_DATUM'].apply(convert_to_utc)"
   ]
  },
  {
   "cell_type": "markdown",
   "id": "6c963970",
   "metadata": {},
   "source": [
    "**Speichern der verarbeiteten dataFrames als .csv (ohne Zeilen-Nummerierung, index=False)**"
   ]
  },
  {
   "cell_type": "code",
   "execution_count": 9,
   "id": "193d1c12",
   "metadata": {},
   "outputs": [],
   "source": [
    "year.to_csv('2019_Braunschweig_Solar_15min_UTC.csv', index=False) #index=FALSE for not including row indices"
   ]
  },
  {
   "cell_type": "markdown",
   "id": "6c043dd3",
   "metadata": {
    "cell_marker": "################################################################"
   },
   "source": [
    "##  Wind \n",
    "**Einlesen der .csv-Datei**<br>\n",
    "Die Dateneinträge des DWD werden durch Semicolons getrennt und nicht wie bei .csv üblich durch Kommata.<br>\n",
    "*Lösung*: read_csv(file_name, delimiter=';'), delimiter-Variable bekommt das Trennzeichen übergeben."
   ]
  },
  {
   "cell_type": "code",
   "execution_count": 10,
   "id": "7697ae9e",
   "metadata": {},
   "outputs": [],
   "source": [
    "data_wind_10min = pd.read_csv(path_wind_10min, delimiter=';')"
   ]
  },
  {
   "cell_type": "markdown",
   "id": "16223cc0",
   "metadata": {},
   "source": [
    "**Entfernen der nicht benötigten Teile der Messreihe und Messwerte**<br>\n",
    "Der DWD stellt zu jeden Datensatz eine Dokumentation zur Verfügung. Diese enthält eine Aufschlüsselung der Messbezeichungen.<br>\n",
    "LISTE EINFÜGEN<br>\n",
    "<br>\n",
    "Messwerte des Jahres 2019"
   ]
  },
  {
   "cell_type": "code",
   "execution_count": 11,
   "id": "0e1a07dd",
   "metadata": {},
   "outputs": [],
   "source": [
    "columns_to_delete = ['STATIONS_ID', '  QN', 'eor']\n",
    "data_wind_10min = data_wind_10min.drop(columns=columns_to_delete, axis=1) #axis=0 for deleting rows, axis=1 for deleting columns\n",
    "\n",
    "Start_Date = 201901010000\n",
    "End_Date = 201912312350\n",
    "year = data_wind_10min[(data_wind_10min['MESS_DATUM'] >= Start_Date) & (data_wind_10min['MESS_DATUM'] <= End_Date)]"
   ]
  },
  {
   "cell_type": "markdown",
   "id": "9d0219dc",
   "metadata": {},
   "source": [
    "**Konvertierung der Timestamps in ISO 8601 Format**<br>\n",
    "Jahr-Monat-Tag+Stunden:Minuten:Sekunden"
   ]
  },
  {
   "cell_type": "code",
   "execution_count": 12,
   "id": "274bfc08",
   "metadata": {},
   "outputs": [
    {
     "name": "stderr",
     "output_type": "stream",
     "text": [
      "C:\\Users\\admin\\AppData\\Local\\Temp\\ipykernel_15532\\3684808446.py:9: FutureWarning: Setting an item of incompatible dtype is deprecated and will raise in a future error of pandas. Value '<DatetimeArray>\n",
      "['2019-01-01 00:00:00', '2019-01-01 00:10:00', '2019-01-01 00:20:00',\n",
      " '2019-01-01 00:30:00', '2019-01-01 00:40:00', '2019-01-01 00:50:00',\n",
      " '2019-01-01 01:00:00', '2019-01-01 01:10:00', '2019-01-01 01:20:00',\n",
      " '2019-01-01 01:30:00',\n",
      " ...\n",
      " '2019-12-31 22:20:00', '2019-12-31 22:30:00', '2019-12-31 22:40:00',\n",
      " '2019-12-31 22:50:00', '2019-12-31 23:00:00', '2019-12-31 23:10:00',\n",
      " '2019-12-31 23:20:00', '2019-12-31 23:30:00', '2019-12-31 23:40:00',\n",
      " '2019-12-31 23:50:00']\n",
      "Length: 52560, dtype: datetime64[ns]' has dtype incompatible with int64, please explicitly cast to a compatible dtype first.\n",
      "  year.loc[:, 'MESS_DATUM'] = year['MESS_DATUM'].apply(convert_to_utc)\n"
     ]
    }
   ],
   "source": [
    "def convert_to_utc(int_date):\n",
    "    date_time = datetime.strptime(str(int_date), \"%Y%m%d%H%M\")\n",
    "    return date_time\n",
    "\n",
    "#year['MESS_DATUM'] = year['MESS_DATUM'].apply(convert_to_utc) #Warning: modifies a DataFrame that is a subset of another DataFrame (SettingWithCopyWarning)\n",
    "\n",
    "# Solution:\n",
    "# Using .loc accessor of pandas to explicitly set values in the original DataFrame:\n",
    "year.loc[:, 'MESS_DATUM'] = year['MESS_DATUM'].apply(convert_to_utc)"
   ]
  },
  {
   "cell_type": "markdown",
   "id": "fce2cf24",
   "metadata": {},
   "source": [
    "**Speichern der verarbeiteten dataFrames als .csv (ohne Zeilen-Nummerierung, index=False)**"
   ]
  },
  {
   "cell_type": "code",
   "execution_count": 13,
   "id": "4c0a3e9e",
   "metadata": {},
   "outputs": [],
   "source": [
    "year.to_csv('2019_Braunschweig_Wind_15min_UTC.csv', index=False) #index=FALSE for not including row indices "
   ]
  },
  {
   "cell_type": "markdown",
   "id": "0294a319",
   "metadata": {
    "cell_marker": "################################################################"
   },
   "source": [
    "##   Luft\n",
    "**Einlesen der .csv-Datei**<br>\n",
    "Die Dateneinträge des DWD werden durch Semicolons getrennt und nicht wie bei .csv üblich durch Kommata.<br>\n",
    "*Lösung*: read_csv(file_name, delimiter=';'), delimiter-Variable bekommt das Trennzeichen übergeben."
   ]
  },
  {
   "cell_type": "code",
   "execution_count": 14,
   "id": "309383de",
   "metadata": {},
   "outputs": [],
   "source": [
    "data_air_10min = pd.read_csv(path_air_10min, delimiter=';')"
   ]
  },
  {
   "cell_type": "markdown",
   "id": "c937835d",
   "metadata": {},
   "source": [
    "**Entfernen der nicht benötigten Teile der Messreihe und Messwerte**<br>\n",
    "Der DWD stellt zu jeden Datensatz eine Dokumentation zur Verfügung. Diese enthält eine Aufschlüsselung der Messbezeichungen.<br>\n",
    "LISTE EINFÜGEN<br>\n",
    "<br>\n",
    "Messwerte des Jahres 2019"
   ]
  },
  {
   "cell_type": "code",
   "execution_count": 15,
   "id": "91671f34",
   "metadata": {},
   "outputs": [],
   "source": [
    "columns_to_delete = ['STATIONS_ID', '  QN', 'TD_10', 'eor']\n",
    "data_air_10min = data_air_10min.drop(columns=columns_to_delete, axis=1) #axis=0 for deleting rows, axis=1 for deleting columns\n",
    "\n",
    "Start_Date = 201901010000\n",
    "End_Date = 201912312350\n",
    "year = data_air_10min[(data_air_10min['MESS_DATUM'] >= Start_Date) & (data_air_10min['MESS_DATUM'] <= End_Date)]"
   ]
  },
  {
   "cell_type": "markdown",
   "id": "3b74be40",
   "metadata": {},
   "source": [
    "**Konvertierung der Timestamps in ISO 8601 Format**<br>\n",
    "Jahr-Monat-Tag+Stunden:Minuten:Sekunden"
   ]
  },
  {
   "cell_type": "code",
   "execution_count": 16,
   "id": "7ff3efc6",
   "metadata": {},
   "outputs": [
    {
     "name": "stderr",
     "output_type": "stream",
     "text": [
      "C:\\Users\\admin\\AppData\\Local\\Temp\\ipykernel_15532\\3684808446.py:9: FutureWarning: Setting an item of incompatible dtype is deprecated and will raise in a future error of pandas. Value '<DatetimeArray>\n",
      "['2019-01-01 00:00:00', '2019-01-01 00:10:00', '2019-01-01 00:20:00',\n",
      " '2019-01-01 00:30:00', '2019-01-01 00:40:00', '2019-01-01 00:50:00',\n",
      " '2019-01-01 01:00:00', '2019-01-01 01:10:00', '2019-01-01 01:20:00',\n",
      " '2019-01-01 01:30:00',\n",
      " ...\n",
      " '2019-12-31 22:20:00', '2019-12-31 22:30:00', '2019-12-31 22:40:00',\n",
      " '2019-12-31 22:50:00', '2019-12-31 23:00:00', '2019-12-31 23:10:00',\n",
      " '2019-12-31 23:20:00', '2019-12-31 23:30:00', '2019-12-31 23:40:00',\n",
      " '2019-12-31 23:50:00']\n",
      "Length: 52560, dtype: datetime64[ns]' has dtype incompatible with int64, please explicitly cast to a compatible dtype first.\n",
      "  year.loc[:, 'MESS_DATUM'] = year['MESS_DATUM'].apply(convert_to_utc)\n"
     ]
    }
   ],
   "source": [
    "def convert_to_utc(int_date):\n",
    "    date_time = datetime.strptime(str(int_date), \"%Y%m%d%H%M\")\n",
    "    return date_time\n",
    "\n",
    "#year['MESS_DATUM'] = year['MESS_DATUM'].apply(convert_to_utc) #Warning: modifies a DataFrame that is a subset of another DataFrame (SettingWithCopyWarning)\n",
    "\n",
    "# Solution:\n",
    "# Using .loc accessor of pandas to explicitly set values in the original DataFrame:\n",
    "year.loc[:, 'MESS_DATUM'] = year['MESS_DATUM'].apply(convert_to_utc)"
   ]
  },
  {
   "cell_type": "markdown",
   "id": "b64ae242",
   "metadata": {},
   "source": [
    "**Speichern der verarbeiteten dataFrames als .csv (ohne Zeilen-Nummerierung, index=False)**"
   ]
  },
  {
   "cell_type": "code",
   "execution_count": 17,
   "id": "1a8b08c3",
   "metadata": {},
   "outputs": [],
   "source": [
    "year.to_csv('2019_Braunschweig_Luft_15min_UTC.csv', index=False) #index=FALSE for not including row indices"
   ]
  }
 ],
 "metadata": {
  "jupytext": {
   "cell_metadata_filter": "-all",
   "main_language": "python",
   "notebook_metadata_filter": "-all"
  },
  "kernelspec": {
   "display_name": "Python 3",
   "language": "python",
   "name": "python3"
  },
  "language_info": {
   "codemirror_mode": {
    "name": "ipython",
    "version": 3
   },
   "file_extension": ".py",
   "mimetype": "text/x-python",
   "name": "python",
   "nbconvert_exporter": "python",
   "pygments_lexer": "ipython3",
   "version": "3.11.7"
  }
 },
 "nbformat": 4,
 "nbformat_minor": 5
}
