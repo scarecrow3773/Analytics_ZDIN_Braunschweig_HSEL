{
 "cells": [
  {
   "cell_type": "markdown",
   "id": "73ae966f",
   "metadata": {},
   "source": [
    "# Initialisierung\n",
    "\n",
    "**Libraries**<br>\n",
    "pandas:     Datenverarbeitung<br>\n",
    "os:         Betriebsystem-Funktionen für relative Pfadreferenzierung<br>\n",
    "datetime:   Verarbeitung der Timstamps<br>"
   ]
  },
  {
   "cell_type": "code",
   "execution_count": 211,
   "id": "80aea91e",
   "metadata": {},
   "outputs": [],
   "source": [
    "import pandas as pd\n",
    "import os\n",
    "from datetime import datetime\n",
    "import seaborn as sns\n",
    "import matplotlib.pyplot as plt\n",
    "import numpy as np\n",
    "\n",
    "from sklearn.preprocessing import StandardScaler\n",
    "\n",
    "dirname = os.path.abspath('')\n",
    "\n",
    "df_path = os.path.join(dirname, '2019_Cleaned_Data_15min.csv')"
   ]
  }
 ],
 "metadata": {
  "jupytext": {
   "cell_metadata_filter": "-all",
   "main_language": "python",
   "notebook_metadata_filter": "-all"
  },
  "kernelspec": {
   "display_name": "Python 3",
   "language": "python",
   "name": "python3"
  },
  "language_info": {
   "codemirror_mode": {
    "name": "ipython",
    "version": 3
   },
   "file_extension": ".py",
   "mimetype": "text/x-python",
   "name": "python",
   "nbconvert_exporter": "python",
   "pygments_lexer": "ipython3",
   "version": "3.11.2"
  }
 },
 "nbformat": 4,
 "nbformat_minor": 5
}
