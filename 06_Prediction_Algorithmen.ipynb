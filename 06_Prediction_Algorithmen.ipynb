{
 "cells": [
  {
   "cell_type": "code",
   "execution_count": 3,
   "metadata": {},
   "outputs": [],
   "source": [
    "import pandas as pd\n",
    "import numpy as np\n",
    "import matplotlib.pyplot as plt\n",
    "\n",
    "from sklearn.model_selection import train_test_split\n",
    "from sklearn.linear_model import LinearRegression\n",
    "from sklearn.metrics import r2_score, mean_squared_error, mean_absolute_error\n",
    "from sklearn.feature_selection import SelectKBest, f_classif, f_regression, mutual_info_regression\n",
    "from sklearn.feature_selection import RFE\n",
    "from sklearn.ensemble import RandomForestRegressor, AdaBoostRegressor"
   ]
  },
  {
   "cell_type": "markdown",
   "metadata": {},
   "source": [
    "**Importieren und Untersuchung der Trainingsdaten**"
   ]
  },
  {
   "cell_type": "code",
   "execution_count": 8,
   "metadata": {},
   "outputs": [
    {
     "name": "stdout",
     "output_type": "stream",
     "text": [
      "Shape (rows, columns): (43800, 17)\n",
      "Number of missing values in each column:\n",
      "MESS_DATUM     0\n",
      "RWS_DAU_10     0\n",
      "RWS_10         0\n",
      "DS_10          0\n",
      "GS_10          0\n",
      "SD_10          0\n",
      "FF_10          0\n",
      "DD_10          0\n",
      "PP_10          0\n",
      "TT_10          0\n",
      "TM5_10         0\n",
      "RF_10          0\n",
      "load           0\n",
      "Weekday        0\n",
      "Weekend        0\n",
      "Month          0\n",
      "Hour_of_Day    0\n",
      "dtype: int64\n"
     ]
    }
   ],
   "source": [
    "data_df = pd.read_csv('2019_Trainingsdaten_1h.csv')\n",
    "print(\"Shape (rows, columns):\", data_df.shape)\n",
    "\n",
    "# Checking for missing values using isna() or isnull()\n",
    "missing_values = data_df.isna().sum() + data_df.isnull().sum()\n",
    "\n",
    "print(\"Number of missing values in each column:\")\n",
    "print(missing_values)"
   ]
  },
  {
   "cell_type": "markdown",
   "metadata": {},
   "source": [
    "**Trennen der unabhängigen und abhängigen Variablen für das Modelltraining**"
   ]
  },
  {
   "cell_type": "code",
   "execution_count": null,
   "metadata": {},
   "outputs": [],
   "source": [
    "x = data_df.drop(['load', 'MESS_DATUM'], axis=1)  # Keep x as a DataFrame\n",
    "y = data_df['load'].values"
   ]
  },
  {
   "cell_type": "markdown",
   "metadata": {},
   "source": [
    "**Recursive Feature Elimination (RFE)**<br>\n",
    "Bei der [RFE (scikit-learn)](https://scikit-learn.org/stable/modules/generated/sklearn.feature_selection.RFE.html) wird das Model zuerst mit der ganzen Menge an vorhandenen Features trainiert, dann wird das Feature mit der geringsten Relevanz entfernt und die RFE-Methode wiederholt."
   ]
  },
  {
   "cell_type": "code",
   "execution_count": null,
   "metadata": {},
   "outputs": [],
   "source": [
    "feature_names = x.columns.tolist()\n",
    "model = RandomForestRegressor()\n",
    "\n",
    "# Instantiate RFE to select top k features\n",
    "num_features_to_select = 8\n",
    "rfe_selector = RFE(model, n_features_to_select=num_features_to_select)\n",
    "\n",
    "# Fit feature selector to data\n",
    "rfe_selector = rfe_selector.fit(x, y)\n",
    "\n",
    "# Get the mask of selected features\n",
    "selected_features_mask = rfe_selector.support_\n",
    "\n",
    "# Get the names of the selected features from the original feature names\n",
    "selected_features = [feature_names[i] for i, selected in enumerate(selected_features_mask) if selected]\n",
    "\n",
    "# Get the ranking of features (optional)\n",
    "feature_ranking = rfe_selector.ranking_\n",
    "feature_ranking_df = pd.DataFrame({'Feature': feature_names, 'Ranking': feature_ranking})\n",
    "feature_ranking_df = feature_ranking_df.sort_values(by='Ranking')\n",
    "\n",
    "print(\"Feature ranking:\")\n",
    "print(feature_ranking_df)\n",
    "\n",
    "print(\"Selected features:\")\n",
    "print(selected_features)"
   ]
  },
  {
   "cell_type": "markdown",
   "metadata": {},
   "source": [
    "**Modell-Training**<br>\n",
    "Trainingsdaten: 80%<br>\n",
    "Validierungsdaten: 20%"
   ]
  },
  {
   "cell_type": "code",
   "execution_count": 29,
   "metadata": {},
   "outputs": [
    {
     "name": "stdout",
     "output_type": "stream",
     "text": [
      "RandomForestRegressor\n",
      "Mean Squared Error (MSE): 67543.53171475706\n",
      "Root Mean Squared Error (RMSE): 259.89138445657846\n",
      "R-squared (R2 score): 0.07914003300097772\n"
     ]
    }
   ],
   "source": [
    "# Assuming data_df is your DataFrame containing date-time strings and load values\n",
    "# Extract numerical features from date-time, e.g., year, month, day, hour, minute\n",
    "#data_df['rec_time'] = pd.to_datetime(data_df['rec_time'])\n",
    "#data_df['year'] = data_df['rec_time'].dt.year\n",
    "#data_df['month'] = data_df['rec_time'].dt.month\n",
    "#data_df['day'] = data_df['rec_time'].dt.day\n",
    "#data_df['hour'] = data_df['rec_time'].dt.hour\n",
    "\n",
    "# Define the independent and dependent variables\n",
    "X = data_df.drop(['load', 'MESS_DATUM'], axis=1)  # Keep x as a DataFrame\n",
    "#print(X)\n",
    "#X = data_df[['year', 'month', 'day', 'hour']].values\n",
    "y = data_df['load'].values\n",
    "\n",
    "# Split the data into training and testing sets\n",
    "X_train, X_test, y_train, y_test = train_test_split(X, y, test_size=0.2, random_state=42)\n",
    "\n",
    "# Create a RandomForestRegressor model\n",
    "random_forest = RandomForestRegressor(n_estimators=15)\n",
    "\n",
    "# Fit the model on the training data\n",
    "random_forest.fit(X_train, y_train)\n",
    "\n",
    "# Make predictions on the test set\n",
    "predictions = random_forest.predict(X_test)\n",
    "\n",
    "# Calculate Mean Squared Error (MSE)\n",
    "mse = mean_squared_error(y_test, predictions)\n",
    "\n",
    "# Calculate Root Mean Squared Error (RMSE)\n",
    "rmse = np.sqrt(mse)\n",
    "\n",
    "# Calculate R-squared (R2 score)\n",
    "r2 = r2_score(y_test, predictions)\n",
    "\n",
    "print(\"RandomForestRegressor\")\n",
    "print(f\"Mean Squared Error (MSE): {mse}\")\n",
    "print(f\"Root Mean Squared Error (RMSE): {rmse}\")\n",
    "print(f\"R-squared (R2 score): {r2}\")"
   ]
  },
  {
   "cell_type": "markdown",
   "metadata": {},
   "source": [
    "**Linear Regression**"
   ]
  },
  {
   "cell_type": "code",
   "execution_count": 32,
   "metadata": {},
   "outputs": [
    {
     "name": "stdout",
     "output_type": "stream",
     "text": [
      "mean_squared_error :  60195.49047093228\n",
      "mean_absolute_error :  183.47341661953482\n",
      "r2_score :  0.17932012198228253\n"
     ]
    }
   ],
   "source": [
    "# Define the independent and dependent variables\n",
    "X = data_df.drop(['load', 'MESS_DATUM'], axis=1)  # Keep x as a DataFrame\n",
    "#print(X)\n",
    "#X = data_df[['year', 'month', 'day', 'hour']].values\n",
    "y = data_df['load'].values\n",
    "\n",
    "# Split the data into training and testing sets\n",
    "X_train, X_test, y_train, y_test = train_test_split(X, y, test_size=0.2, random_state=42)\n",
    "\n",
    "model = LinearRegression() \n",
    "model.fit(X_train,y_train)\n",
    "predictions = model.predict(X_test) \n",
    "\n",
    "# model evaluation \n",
    "print('mean_squared_error : ', mean_squared_error(y_test, predictions)) \n",
    "print('mean_absolute_error : ', mean_absolute_error(y_test, predictions))\n",
    "print('r2_score : ',r2_score(y_test, predictions))"
   ]
  },
  {
   "cell_type": "markdown",
   "metadata": {},
   "source": [
    "**AdaBoostRegressor**"
   ]
  },
  {
   "cell_type": "code",
   "execution_count": 6,
   "metadata": {},
   "outputs": [
    {
     "name": "stdout",
     "output_type": "stream",
     "text": [
      "AdaBoostRegressor\n",
      "Mean Squared Error (MSE): 61855.778328636996\n",
      "Root Mean Squared Error (RMSE): 248.70821926232554\n",
      "R-squared (R2 score): 0.15668445898036099\n"
     ]
    }
   ],
   "source": [
    "# Define the independent and dependent variables\n",
    "#X = data_df[['year', 'month', 'day', 'hour', 'minute']].values\n",
    "#X = data_df[['month', 'day', 'hour']].values\n",
    "X = data_df.drop(['load', 'MESS_DATUM'], axis=1)  # Keep x as a DataFrame\n",
    "#print(X)\n",
    "y = data_df['load'].values\n",
    "\n",
    "# Split the data into training and testing sets\n",
    "X_train, X_test, y_train, y_test = train_test_split(X, y, test_size=0.2, random_state=42)\n",
    "\n",
    "# Create an AdaBoostRegressor model\n",
    "ada_boost = AdaBoostRegressor(n_estimators=100, learning_rate=1.0, random_state=42)\n",
    "\n",
    "# Fit the model on the training data\n",
    "ada_boost.fit(X_train, y_train)\n",
    "\n",
    "# Make predictions on the test set\n",
    "predictions = ada_boost.predict(X_test)\n",
    "\n",
    "# Calculate Mean Squared Error (MSE)\n",
    "mse = mean_squared_error(y_test, predictions)\n",
    "\n",
    "# Calculate Root Mean Squared Error (RMSE)\n",
    "rmse = np.sqrt(mse)\n",
    "\n",
    "# Calculate R-squared (R2 score)\n",
    "r2 = r2_score(y_test, predictions)\n",
    "\n",
    "print(\"AdaBoostRegressor\")\n",
    "print(f\"Mean Squared Error (MSE): {mse}\")\n",
    "print(f\"Root Mean Squared Error (RMSE): {rmse}\")\n",
    "print(f\"R-squared (R2 score): {r2}\")"
   ]
  }
 ],
 "metadata": {
  "kernelspec": {
   "display_name": "Python 3",
   "language": "python",
   "name": "python3"
  },
  "language_info": {
   "codemirror_mode": {
    "name": "ipython",
    "version": 3
   },
   "file_extension": ".py",
   "mimetype": "text/x-python",
   "name": "python",
   "nbconvert_exporter": "python",
   "pygments_lexer": "ipython3",
   "version": "3.11.2"
  }
 },
 "nbformat": 4,
 "nbformat_minor": 2
}
