{
 "cells": [
  {
   "cell_type": "code",
   "execution_count": null,
   "metadata": {},
   "outputs": [],
   "source": [
    "import pandas as pd\n",
    "import os"
   ]
  },
  {
   "cell_type": "code",
   "execution_count": null,
   "metadata": {},
   "outputs": [],
   "source": [
    "dirname = os.path.abspath('')\n",
    "\n",
    "path_merged_data =    os.path.join(dirname, '2019_Merged_Data_1h.csv')\n",
    "merged_data =    pd.read_csv(path_merged_data)"
   ]
  },
  {
   "cell_type": "code",
   "execution_count": null,
   "metadata": {},
   "outputs": [],
   "source": [
    "predictors_df = merged_data\n",
    "\n",
    "# Function to map weekday\n",
    "def map_weekday(timestamp):\n",
    "    return timestamp.weekday() + 1  # Adding 1 to map Monday as 1, Tuesday as 2, ..., Sunday as 7\n",
    "\n",
    "# Function to map weekend\n",
    "def map_weekend(day):\n",
    "    return 1 if day in [6, 7] else 0  # Saturday (6) and Sunday (7) are considered weekends\n",
    "\n",
    "# Function to extract minute of the hour\n",
    "def extract_minute(timestamp):\n",
    "    return timestamp.minute  # Extract only the minute part\n",
    "\n",
    "# Function to extract hour of the day\n",
    "def extract_hour(timestamp):\n",
    "    return timestamp.hour  # Extract only the hour part\n",
    "\n",
    "# Function to extract month as an integer (January = 1, February = 2, ..., December = 12)\n",
    "def extract_month(timestamp):\n",
    "    return timestamp.month\n",
    "\n",
    "# Assuming 'MESS_DATUM' column contains timestamp values\n",
    "predictors_df['rec_time'] = pd.to_datetime(predictors_df['rec_time'])  # Convert to datetime if not already\n",
    "\n",
    "# Create a new column 'Weekday' by mapping the weekday using the map_weekday function\n",
    "predictors_df['Weekday'] = predictors_df['rec_time'].apply(lambda x: map_weekday(x))\n",
    "# Create a new column 'Weekend' by mapping the weekend using the map_weekend function\n",
    "predictors_df['Weekend'] = predictors_df['Weekday'].apply(lambda x: map_weekend(x))\n",
    "# Create a new column 'Daytime' to store the extracted daytime information in integer format\n",
    "predictors_df['Month'] = predictors_df['rec_time'].apply(lambda x: extract_month(x))\n",
    "# Create a new column 'Daytime' to store the extracted hour of the day as integers\n",
    "predictors_df['Hour_of_Day'] = predictors_df['rec_time'].apply(lambda x: extract_hour(x))\n",
    "# Create a new column 'Minute_of_Hour' to store the extracted minute of the hour\n",
    "#predictors_df['Minute_of_Hour'] = predictors_df['rec_time'].apply(lambda x: extract_minute(x))\n",
    "\n",
    "print(predictors_df)"
   ]
  }
 ],
 "metadata": {
  "language_info": {
   "name": "python"
  }
 },
 "nbformat": 4,
 "nbformat_minor": 2
}
