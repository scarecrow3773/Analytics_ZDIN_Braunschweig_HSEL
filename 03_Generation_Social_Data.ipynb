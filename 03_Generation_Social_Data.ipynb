{
 "cells": [
  {
   "cell_type": "code",
   "execution_count": 7,
   "metadata": {},
   "outputs": [],
   "source": [
    "import pandas as pd\n",
    "import os"
   ]
  },
  {
   "cell_type": "code",
   "execution_count": 8,
   "metadata": {},
   "outputs": [],
   "source": [
    "dirname = os.path.abspath('')\n",
    "\n",
    "path_merged_data =    os.path.join(dirname, '2019_Merged_Data_1h.csv')\n",
    "merged_data =    pd.read_csv(path_merged_data)"
   ]
  },
  {
   "cell_type": "code",
   "execution_count": 9,
   "metadata": {},
   "outputs": [
    {
     "name": "stdout",
     "output_type": "stream",
     "text": [
      "                     MESS_DATUM  RWS_DAU_10  RWS_10  DS_10  GS_10  SD_10  \\\n",
      "0     2019-01-01 00:00:00+00:00          53    0.04    0.0    0.0    0.0   \n",
      "1     2019-01-01 01:00:00+00:00          55    0.03    0.0    0.0    0.0   \n",
      "2     2019-01-01 02:00:00+00:00          40    0.03    0.0    0.0    0.0   \n",
      "3     2019-01-01 03:00:00+00:00           0    0.00    0.0    0.0    0.0   \n",
      "4     2019-01-01 04:00:00+00:00          28    0.00    0.0    0.0    0.0   \n",
      "...                         ...         ...     ...    ...    ...    ...   \n",
      "43795 2019-12-31 19:00:00+00:00           0    0.00    0.0    0.0    0.0   \n",
      "43796 2019-12-31 20:00:00+00:00           0    0.00    0.0    0.0    0.0   \n",
      "43797 2019-12-31 21:00:00+00:00           0    0.00    0.0    0.0    0.0   \n",
      "43798 2019-12-31 22:00:00+00:00           0    0.00    0.0    0.0    0.0   \n",
      "43799 2019-12-31 23:00:00+00:00           0    0.00    0.0    0.0    0.0   \n",
      "\n",
      "          FF_10       DD_10        PP_10     TT_10    TM5_10      RF_10  \\\n",
      "0      5.416667  263.333333  1020.316667  7.600000  7.100000  91.483333   \n",
      "1      6.550000  263.333333  1019.516667  7.283333  6.800000  91.983333   \n",
      "2      6.750000  263.333333  1018.683333  7.283333  6.733333  89.700000   \n",
      "3      6.400000  260.000000  1017.650000  7.466667  6.733333  82.666667   \n",
      "4      7.350000  260.000000  1016.650000  7.350000  6.533333  82.500000   \n",
      "...         ...         ...          ...       ...       ...        ...   \n",
      "43795  2.000000  265.000000  1028.083333  3.800000 -0.166667  84.966667   \n",
      "43796  1.933333  271.666667  1028.133333  2.500000 -1.583333  92.133333   \n",
      "43797  1.733333  271.666667  1028.083333  2.616667 -1.516667  96.300000   \n",
      "43798  1.383333  255.000000  1028.250000  1.900000 -2.316667  97.350000   \n",
      "43799  1.366667  265.000000  1028.383333 -0.333333 -3.066667  98.933333   \n",
      "\n",
      "             load  Weekday  Weekend  Month  Hour_of_Day  \n",
      "0      427.419835        2        0      1            0  \n",
      "1      591.964497        2        0      1            1  \n",
      "2      675.726043        2        0      1            2  \n",
      "3      704.449528        2        0      1            3  \n",
      "4      500.577103        2        0      1            4  \n",
      "...           ...      ...      ...    ...          ...  \n",
      "43795  781.530997        2        0     12           19  \n",
      "43796  645.084425        2        0     12           20  \n",
      "43797  641.858920        2        0     12           21  \n",
      "43798  577.216580        2        0     12           22  \n",
      "43799  327.084160        2        0     12           23  \n",
      "\n",
      "[43800 rows x 17 columns]\n"
     ]
    }
   ],
   "source": [
    "predictors_df = merged_data\n",
    "\n",
    "# Function to map weekday\n",
    "def map_weekday(timestamp):\n",
    "    return timestamp.weekday() + 1  # Adding 1 to map Monday as 1, Tuesday as 2, ..., Sunday as 7\n",
    "\n",
    "# Function to map weekend\n",
    "def map_weekend(day):\n",
    "    return 1 if day in [6, 7] else 0  # Saturday (6) and Sunday (7) are considered weekends\n",
    "\n",
    "# Function to extract minute of the hour\n",
    "def extract_minute(timestamp):\n",
    "    return timestamp.minute  # Extract only the minute part\n",
    "\n",
    "# Function to extract hour of the day\n",
    "def extract_hour(timestamp):\n",
    "    return timestamp.hour  # Extract only the hour part\n",
    "\n",
    "# Function to extract month as an integer (January = 1, February = 2, ..., December = 12)\n",
    "def extract_month(timestamp):\n",
    "    return timestamp.month\n",
    "\n",
    "# Assuming 'MESS_DATUM' column contains timestamp values\n",
    "predictors_df['MESS_DATUM'] = pd.to_datetime(predictors_df['MESS_DATUM'])  # Convert to datetime if not already\n",
    "\n",
    "# Create a new column 'Weekday' by mapping the weekday using the map_weekday function\n",
    "predictors_df['Weekday'] = predictors_df['MESS_DATUM'].apply(lambda x: map_weekday(x))\n",
    "# Create a new column 'Weekend' by mapping the weekend using the map_weekend function\n",
    "predictors_df['Weekend'] = predictors_df['Weekday'].apply(lambda x: map_weekend(x))\n",
    "# Create a new column 'Daytime' to store the extracted daytime information in integer format\n",
    "predictors_df['Month'] = predictors_df['MESS_DATUM'].apply(lambda x: extract_month(x))\n",
    "# Create a new column 'Daytime' to store the extracted hour of the day as integers\n",
    "predictors_df['Hour_of_Day'] = predictors_df['MESS_DATUM'].apply(lambda x: extract_hour(x))\n",
    "# Create a new column 'Minute_of_Hour' to store the extracted minute of the hour\n",
    "#predictors_df['Minute_of_Hour'] = predictors_df['rec_time'].apply(lambda x: extract_minute(x))\n",
    "\n",
    "print(predictors_df)"
   ]
  },
  {
   "cell_type": "code",
   "execution_count": 10,
   "metadata": {},
   "outputs": [],
   "source": [
    "predictors_df.to_csv('2019_Trainingsdaten_1h.csv', index=False) #index=FALSE for not including row indices"
   ]
  }
 ],
 "metadata": {
  "kernelspec": {
   "display_name": "Python 3",
   "language": "python",
   "name": "python3"
  },
  "language_info": {
   "codemirror_mode": {
    "name": "ipython",
    "version": 3
   },
   "file_extension": ".py",
   "mimetype": "text/x-python",
   "name": "python",
   "nbconvert_exporter": "python",
   "pygments_lexer": "ipython3",
   "version": "3.11.2"
  }
 },
 "nbformat": 4,
 "nbformat_minor": 2
}
